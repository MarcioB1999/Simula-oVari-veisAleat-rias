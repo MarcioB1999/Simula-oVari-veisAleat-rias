{
  "nbformat": 4,
  "nbformat_minor": 0,
  "metadata": {
    "colab": {
      "name": "Simulação Estocastica trab.ipynb",
      "provenance": [],
      "collapsed_sections": [],
      "include_colab_link": true
    },
    "kernelspec": {
      "display_name": "Python 3",
      "name": "python3"
    }
  },
  "cells": [
    {
      "cell_type": "markdown",
      "metadata": {
        "id": "view-in-github",
        "colab_type": "text"
      },
      "source": [
        "<a href=\"https://colab.research.google.com/github/MarcioB1999/Simula-oVari-veisAleat-rias/blob/main/Simula%C3%A7%C3%A3o_Estocastica_trab.ipynb\" target=\"_parent\"><img src=\"https://colab.research.google.com/assets/colab-badge.svg\" alt=\"Open In Colab\"/></a>"
      ]
    },
    {
      "cell_type": "code",
      "metadata": {
        "colab": {
          "base_uri": "https://localhost:8080/"
        },
        "id": "_Mz6X7oWNzon",
        "outputId": "927fcf88-24d5-47d3-82f4-3376219e0895"
      },
      "source": [
        "!pip install matplotlib-venn\n",
        "import numpy as np\n",
        "from matplotlib import pyplot as plt\n",
        "import scipy.stats as st\n",
        "from scipy.stats import poisson\n",
        "from scipy.special import gammaincinv\n",
        "import math\n",
        "import pandas as pd\n",
        "from scipy.stats import chi2\n",
        "import collections"
      ],
      "execution_count": null,
      "outputs": [
        {
          "output_type": "stream",
          "text": [
            "Requirement already satisfied: matplotlib-venn in /usr/local/lib/python3.7/dist-packages (0.11.6)\n",
            "Requirement already satisfied: matplotlib in /usr/local/lib/python3.7/dist-packages (from matplotlib-venn) (3.2.2)\n",
            "Requirement already satisfied: scipy in /usr/local/lib/python3.7/dist-packages (from matplotlib-venn) (1.4.1)\n",
            "Requirement already satisfied: numpy in /usr/local/lib/python3.7/dist-packages (from matplotlib-venn) (1.19.5)\n",
            "Requirement already satisfied: pyparsing!=2.0.4,!=2.1.2,!=2.1.6,>=2.0.1 in /usr/local/lib/python3.7/dist-packages (from matplotlib->matplotlib-venn) (2.4.7)\n",
            "Requirement already satisfied: kiwisolver>=1.0.1 in /usr/local/lib/python3.7/dist-packages (from matplotlib->matplotlib-venn) (1.3.1)\n",
            "Requirement already satisfied: python-dateutil>=2.1 in /usr/local/lib/python3.7/dist-packages (from matplotlib->matplotlib-venn) (2.8.1)\n",
            "Requirement already satisfied: cycler>=0.10 in /usr/local/lib/python3.7/dist-packages (from matplotlib->matplotlib-venn) (0.10.0)\n",
            "Requirement already satisfied: six>=1.5 in /usr/local/lib/python3.7/dist-packages (from python-dateutil>=2.1->matplotlib->matplotlib-venn) (1.15.0)\n"
          ],
          "name": "stdout"
        }
      ]
    },
    {
      "cell_type": "markdown",
      "metadata": {
        "id": "ebk2FtAv8_JH"
      },
      "source": [
        "**Estatísticas Poisson**"
      ]
    },
    {
      "cell_type": "code",
      "metadata": {
        "id": "O-zG5m3S8-c2"
      },
      "source": [
        " \n",
        "def estatisticP(lamb, seed, a, b, m, n):\n",
        "   v=np.zeros((10, n))\n",
        "   U=np.zeros((1,10))\n",
        "   for i in range(10):\n",
        "      v[i, :],t=Poisson(lamb, seed[i], a, b, m, n)\n",
        "      U[0,i]=int(testeD(v[i,:], lamb, n, 1))\n",
        "   tabela=Estatistica(v,t)\n",
        "   coluna='1 2 3 4 5 6 7 8 9 10'.split()\n",
        "   linha='Teste'.split()\n",
        "   tabela2=pd.DataFrame(data=U, index=linha, columns=coluna)\n",
        "   return tabela, tabela2"
      ],
      "execution_count": null,
      "outputs": []
    },
    {
      "cell_type": "markdown",
      "metadata": {
        "id": "Mj_GMikCJTvh"
      },
      "source": [
        "**Estatísticas Geométrica**"
      ]
    },
    {
      "cell_type": "code",
      "metadata": {
        "id": "n8BKiLqbJT-u"
      },
      "source": [
        "def estatisticG(p, seed, a, b, m, n):\n",
        "   v=np.zeros((10, n))\n",
        "   U=np.zeros((1,10))\n",
        "   for i in range(10):\n",
        "      v[i, :],t = Geometrica(p, seed[i], a, b, m, n)\n",
        "      U[0,i] = int(testeD(v[i,:], p, n, 0))\n",
        "   tabela2 = Estatistica(v,t)\n",
        "   coluna='1 2 3 4 5 6 7 8 9 10'.split()\n",
        "   linha='Teste'.split()\n",
        "   tabela=pd.DataFrame(data=U, index=linha, columns=coluna)\n",
        "   return tabela, tabela2"
      ],
      "execution_count": null,
      "outputs": []
    },
    {
      "cell_type": "markdown",
      "metadata": {
        "id": "14320u8HLne8"
      },
      "source": [
        "**Estatísticas Gamma**"
      ]
    },
    {
      "cell_type": "code",
      "metadata": {
        "id": "XCzJIddZLv-j"
      },
      "source": [
        "def estatisticGa(k, theta, seed, a, b, m, n):\n",
        "   v=np.zeros((10, n))\n",
        "   for i in range(10):\n",
        "      v[i, :], t = Gamma(k, theta, seed[i], a, b, m, n)\n",
        "   return Estatistica(v,t)"
      ],
      "execution_count": null,
      "outputs": []
    },
    {
      "cell_type": "markdown",
      "metadata": {
        "id": "FhQMENZSF58y"
      },
      "source": [
        "**Estatísticas Pareto**"
      ]
    },
    {
      "cell_type": "code",
      "metadata": {
        "id": "n-NyF-dtGExT"
      },
      "source": [
        "def estatisticPa(alpha, x_m, seed, a, b, m, n):\n",
        "   v=np.zeros((10, n))\n",
        "   for i in range(10):\n",
        "      v[i, :], t= Pareto(alpha, x_m, seed[i], a, b, m, n)\n",
        "   return Estatistica(v,t)"
      ],
      "execution_count": null,
      "outputs": []
    },
    {
      "cell_type": "markdown",
      "metadata": {
        "id": "uBt8zQH8bTnc"
      },
      "source": [
        "**Código para geração Uniforme**"
      ]
    },
    {
      "cell_type": "code",
      "metadata": {
        "id": "TclTmCsFdr8a"
      },
      "source": [
        "def Uniforme(seed, a, b, m, n):\n",
        "    U=[]\n",
        "    aux=(a*seed+b)%m\n",
        "    U.append(aux/m)\n",
        "    for i in range(1, n):\n",
        "        aux=(a*aux+b)%m\n",
        "        U.append(aux/m)\n",
        "    return U"
      ],
      "execution_count": null,
      "outputs": []
    },
    {
      "cell_type": "markdown",
      "metadata": {
        "id": "XcM2AwHnhUdz"
      },
      "source": [
        "**Código para geração Geométrica**"
      ]
    },
    {
      "cell_type": "code",
      "metadata": {
        "id": "6o-7U4awfKH6"
      },
      "source": [
        "def Geometrica(p, seed, a, b, m, n):\n",
        "    G = []\n",
        "    U = Uniforme(seed, a, b, m, n)\n",
        "    c = math.log(1-p)\n",
        "    print(c)\n",
        "    for i in range(n):\n",
        "       G.append(int((math.log(U[i]))/c)+1)\n",
        "    T = st.geom(p = p)\n",
        "    return G, T"
      ],
      "execution_count": null,
      "outputs": []
    },
    {
      "cell_type": "markdown",
      "metadata": {
        "id": "6tQ0VaVslBsZ"
      },
      "source": [
        "**Código para geração Poisson**"
      ]
    },
    {
      "cell_type": "code",
      "metadata": {
        "id": "63VBzFOsiOkb"
      },
      "source": [
        "def Poisson(lamb, seed, a, b, m, n):\n",
        "    P=[]\n",
        "    e=np.exp(1)\n",
        "    U=Uniforme(seed, a, b, m, n)\n",
        "    p=e**(-lamb)\n",
        "    F=p\n",
        "    for i in range(n):\n",
        "       p=e**(-lamb)\n",
        "       F=p\n",
        "       j=0\n",
        "       while(F<=1):\n",
        "           if(U[i]<F):\n",
        "             P.append(j)\n",
        "             break\n",
        "           p=lamb*p/(j+1)\n",
        "           F=F+p\n",
        "           j=j+1\n",
        "    T = st.poisson(mu = lamb)\n",
        "    return P, T"
      ],
      "execution_count": null,
      "outputs": []
    },
    {
      "cell_type": "markdown",
      "metadata": {
        "id": "-_N7s2FAVdSo"
      },
      "source": [
        "**Código para Geração da Gamma**"
      ]
    },
    {
      "cell_type": "code",
      "metadata": {
        "id": "KGQYu2cEVhwR"
      },
      "source": [
        "def Gamma(k, theta, seed, a, b, m, n): #Precisa de Correção\n",
        "    G = []\n",
        "    U = Uniforme(seed, a, b, m, n)\n",
        "    U2 = Uniforme(seed+2, a, b, m, n)\n",
        "    c = math.pow(k,k) / (math.gamma(k) * math.exp(k-1))\n",
        "    for i in range(n): # len(G) < n:\n",
        "      Y = -k * math.log(U[i])\n",
        "      aux = st.gamma.pdf(Y,a = k) / (c * st.expon.pdf(Y,1/k))\n",
        "      if U2[i] < aux:\n",
        "        x = theta * Y\n",
        "      #x = ((math.pow(U[i],-(k-1)) * math.exp(-U[i]/theta)) / (math.gamma(k) * math.pow(theta,k)))\n",
        "        G.append(x)\n",
        "      else:\n",
        "        G.append(G[i-1])\n",
        "    T = st.gamma(a = k,scale = theta)\n",
        "    return G, T"
      ],
      "execution_count": null,
      "outputs": []
    },
    {
      "cell_type": "markdown",
      "metadata": {
        "id": "KuNHdI_X9Eou"
      },
      "source": [
        "**Código para Geração do Pareto**"
      ]
    },
    {
      "cell_type": "code",
      "metadata": {
        "id": "UhjBkA1T9ECw"
      },
      "source": [
        "def Pareto(alpha, x_m, seed, a, b, m, n):\n",
        "    P = []\n",
        "    U = Uniforme(seed, a, b, m, n)\n",
        "    for i in range(n):\n",
        "      x = (x_m / math.pow((1-U[i]),(1/alpha)))\n",
        "      P.append(x)\n",
        "    T = st.pareto(b = alpha, scale = x_m)\n",
        "    return P,T"
      ],
      "execution_count": null,
      "outputs": []
    },
    {
      "cell_type": "markdown",
      "metadata": {
        "id": "osqMIn-bewTv"
      },
      "source": [
        "**Estatísticas**"
      ]
    },
    {
      "cell_type": "code",
      "metadata": {
        "id": "EsG2wg6ggSuW"
      },
      "source": [
        "def Estatistica(v,t):\n",
        "    E=np.zeros((8, 12))\n",
        "    for i in range(10):\n",
        "       E[0, i] = np.mean(v[i, :]) # Média\n",
        "       E[1, i] = np.var(v[i, :]) # Variância\n",
        "       E[2, i] = np.median(v[i, :]) # Mediana\n",
        "       #E[3, i] = st.mode(v[i, :]) # Valor Modal\n",
        "       E[4, i] = st.kurtosis(v[i, :]) # Curtose\n",
        "       E[5, i] = st.skew(v[i, :]) # Assimetria\n",
        "       E[6, i] = st.scoreatpercentile(v[i, :], 25) # 1º Quartil\n",
        "       E[7, i] = st.scoreatpercentile(v[i, :], 75) # 3º Quartil\n",
        "    for j in range(8):\n",
        "       E[j, 10] = math.fsum(E[j, :])/10 #Média das \n",
        "    E[0, 11] = t.mean() # Média\n",
        "    E[1, 11] = t.var() # Variância\n",
        "    E[2, 11] = t.median() # Mediana\n",
        "    #E[3, 11] = st.mode(t,axis=None) # Valor Modal\n",
        "    E[4, 11] = t.stats(moments = 'k') # Curtose\n",
        "    E[5, 11] = t.stats(moments = 's') # Assimetria\n",
        "    E[6, 11] = t.ppf(q = .25) # 1º Quartil\n",
        "    E[7, 11] = t.ppf(q = .75) # 3º Quartil\n",
        "    coluna='1 2 3 4 5 6 7 8 9 10 Média Teoria'.split()\n",
        "    linha='Media Variancia Mediana Moda Curtose Assimetria 1_Quartil 3_Quartil'.split()\n",
        "    tabela=pd.DataFrame(data=E, index=linha, columns=coluna)\n",
        "    tabela.to_excel(\"estatiscas.xls\")\n",
        "    return tabela"
      ],
      "execution_count": null,
      "outputs": []
    },
    {
      "cell_type": "markdown",
      "metadata": {
        "id": "diWkEjwwRnV3"
      },
      "source": [
        "**Gráficos**"
      ]
    },
    {
      "cell_type": "markdown",
      "metadata": {
        "id": "PdT0x0L1z1fp"
      },
      "source": [
        "**Grafico Pareto**"
      ]
    },
    {
      "cell_type": "code",
      "metadata": {
        "id": "Z5MQQiNNrC7K"
      },
      "source": [
        "def graficoP(X, alpha, x_m, j):\n",
        "   fig, ax = plt.subplots()\n",
        "   n, bins, ah = ax.hist(X,label=\"histograma\")\n",
        "   y = j * ((alpha/x_m) * ((x_m/bins) ** (alpha+1)))\n",
        "   ax.plot(bins,y,label=\"densidade\")\n",
        "   plt.ylim(0, 1000)\n",
        "   plt.xlim(0,3.5)\n",
        "   plt.xlabel(\"Dados\")\n",
        "   plt.legend(loc=\"upper right\")\n",
        "   plt.title(\"contínua\")"
      ],
      "execution_count": null,
      "outputs": []
    },
    {
      "cell_type": "markdown",
      "metadata": {
        "id": "gssesmQ-zyZu"
      },
      "source": [
        "**Gráfico das Discretas**"
      ]
    },
    {
      "cell_type": "code",
      "metadata": {
        "id": "N_YKMYzbzner"
      },
      "source": [
        "def graficoD(a):\n",
        "    plt.hist(a, np.max(a))\n",
        "    plt.savefig('figura1.pdf',format='pdf',bbox_inches='tight')\n",
        "    plt.show()"
      ],
      "execution_count": null,
      "outputs": []
    },
    {
      "cell_type": "markdown",
      "metadata": {
        "id": "J60PWmzLcWJC"
      },
      "source": [
        "**Gráfico Gamma**\n"
      ]
    },
    {
      "cell_type": "code",
      "metadata": {
        "id": "-c3dKBoG7WEy"
      },
      "source": [
        "def GraficoG(X, k, theta, j):\n",
        "  fig, ax = plt.subplots()\n",
        "  n, bins, ah = ax.hist(X,100,label=\"Histograma\")\n",
        "  y=[]\n",
        "  for i in bins:\n",
        "      y.append(j * (((math.pow(i,k-1)) * (math.exp(-i/theta) * math.pow(theta,-k) )/ math.gamma(k))))\n",
        "  ax.plot(bins,y,label=\"Densidade\")\n",
        "  plt.ylim(0, 1000)\n",
        "  #plt.xlim(0, 1000)\n",
        "  plt.xlabel(\"Dados\")\n",
        "  plt.legend(loc=\"upper right\")\n",
        "  plt.title(\"Contínua\")"
      ],
      "execution_count": null,
      "outputs": []
    },
    {
      "cell_type": "markdown",
      "metadata": {
        "id": "wheQwzG1iomR"
      },
      "source": [
        "**Testes de Aderencia**"
      ]
    },
    {
      "cell_type": "code",
      "metadata": {
        "id": "NJivcGSLuHrF"
      },
      "source": [
        "def testeD(x, p, n, distri, nv=0.05):\n",
        "    qui=0\n",
        "    x=sorted(x)\n",
        "    counter=collections.Counter(x)\n",
        "    aux=list(counter.keys())\n",
        "    if distri==1:\n",
        "       prob = st.poisson.pmf(aux,p)*n\n",
        "    else:\n",
        "       prob = st.geom.pmf(aux, p)*n\n",
        "    j=0\n",
        "    for i in aux:\n",
        "        qui+=(((counter[i]-prob[j])**(2))/prob[j])\n",
        "        j+=1\n",
        "    if(qui<=chi2.ppf(1-nv, np.shape(aux)[0])):\n",
        "      return 1\n",
        "    else:\n",
        "      return 0"
      ],
      "execution_count": null,
      "outputs": []
    },
    {
      "cell_type": "code",
      "metadata": {
        "id": "HQObCzGeit7d"
      },
      "source": [
        "def aderenciaCont(X, T):\n",
        "  E = np.zeros((10,3))\n",
        "  for i in range(1,10):\n",
        "    #x = iqr(X, rng = (0, 10*i)) # 10*i% dos Dados\n",
        "    x = st.scoreatpercentile(X, 10*i) # Faixa de 10*i% dos Dados\n",
        "    E[i][0] = x\n",
        "    #x = iqr(T, rng = (0, 10*i)) # 10*i% dos Dados\n",
        "    t = T.ppf(q = (10*i/100)) #- T.ppf(q = ((10*i-10)/100)) # Faixa 10*i% dos Dados\n",
        "    E[i][1] = t\n",
        "    E[i][2] = math.pow((E[i][0]-E[i][1]),2)/10\n",
        "  coluna='Simulado Teoria EQM'.split()\n",
        "  linha='00%|--10% 10%|--20% 20%|--30% 30%|--40% 40%|--50% 50%|--60% 60%|--70% 70%|--80% 80%|--90% 90%|--100%'.split()\n",
        "  tabela=pd.DataFrame(data=E, index=linha, columns=coluna)\n",
        "  return tabela\n"
      ],
      "execution_count": null,
      "outputs": []
    },
    {
      "cell_type": "markdown",
      "metadata": {
        "id": "URpMJwX0GL_X"
      },
      "source": [
        "**Introdução:**"
      ]
    },
    {
      "cell_type": "markdown",
      "metadata": {
        "id": "fkbxLhedfD_3"
      },
      "source": [
        "**Main**"
      ]
    },
    {
      "cell_type": "code",
      "metadata": {
        "id": "6dh1XudAIiGm",
        "colab": {
          "base_uri": "https://localhost:8080/",
          "height": 1000
        },
        "outputId": "07d8e25f-c722-4511-aee1-dac80d495cb1"
      },
      "source": [
        "a=16807\n",
        "b=0\n",
        "m=2147483648\n",
        "s=[42, 5, 3, 250, 42, 321, 1345, 50, 120, 61]\n",
        "n=1000\n",
        "print(\"Escolha a distribuicao que deseja simular: \\n\")\n",
        "print(\"P: Poisson \\n\")\n",
        "print(\"g: Geometrica \\n\")\n",
        "print(\"pa: Pareto \\n\")\n",
        "print(\"ga: Gamma \\n\")\n",
        " \n",
        "qui = input()\n",
        "if qui == 'p': \n",
        "  print(\"Distribuição Poisson\")\n",
        "  x,t = Poisson(100, s[0], a,b,m,n)\n",
        "  for i in range(1,4):\n",
        "    n = 10 ** (i+2)\n",
        "    text = \"Poisson_Estatistica_\" + str(n) + \".xlsx\"\n",
        "    text1 = \"Poisson_Aderencia_\" + str(n) + \".xlsx\"\n",
        "    est, ade = estatisticP(100,s,a,b,m,n)\n",
        "    print(est)\n",
        "    print(ade)\n",
        "    graficoD(x)\n",
        "    graficoD(t.rvs(n))\n",
        "    est.to_excel(text)\n",
        "    ade.to_excel(text1)\n",
        "if qui == 'G': \n",
        "  print(\"Distribuição Geometrica\")\n",
        "  x,t=Geometrica(0.3, s[0], a,b,m,n)\n",
        "  for i in range(1,4):\n",
        "    n = 10 ** (i+2)\n",
        "    text = \"Geometrica_Estatistica_\" + str(n) + \".xlsx\"\n",
        "    text1 = \"Geometrica_Aderencia_\" + str(n) + \".xlsx\"\n",
        "    ade, est = estatisticG(0.3,s,a,b,m,n)\n",
        "    print(est)\n",
        "    print(ade)\n",
        "    graficoD(x)\n",
        "    graficoD(t.rvs(n))\n",
        "    est.to_excel(text)\n",
        "    ade.to_excel(text1)\n",
        "if qui == 'Ga': \n",
        "  print(\"Distribuição Gamma\")\n",
        "  x,t = Gamma(5, 1, s[0], a, b, m, n)\n",
        "  for i in range(1,4):\n",
        "    n = 10 ** (i+2)\n",
        "    text = \"Gamma_Estatistica_\" + str(n) + \".xlsx\"\n",
        "    text1 = \"Gamma_Aderencia_\" + str(n) + \".xlsx\"\n",
        "    est = estatisticGa(5, 1, s, a, b, m, n)\n",
        "    ade = aderenciaCont(x,t)\n",
        "    print(estatisticGa(5, 1, s, a, b, m, n))\n",
        "    print(aderenciaCont(x,t))\n",
        "    est.to_excel(text)\n",
        "    ade.to_excel(text1)\n",
        "  #graficoD(x)\n",
        "  #graficoD(t.rvs(n))\n",
        "if qui == 'pa': \n",
        "  print(\"Distribuição Pareto\")\n",
        "  x,t=Pareto(5, 1, s[0], a, b, m, n)\n",
        "  for i in range(1,4):\n",
        "    n = 10 ** (i+2)\n",
        "    text = \"Pareto_Estatistica_\" + str(n) + \".xlsx\"\n",
        "    text1 = \"Pareto_Aderencia_\" + str(n) + \".xlsx\"\n",
        "    est = estatisticPa(5, 1, s, a, b, m, n)\n",
        "    ade = aderenciaCont(x,t)\n",
        "    print(est)\n",
        "    print(ade)\n",
        "    graficoP(x, 5, 1, n)\n",
        "    graficoP(t.rvs(n), 5, 1, n)\n",
        "    est.to_excel(text)\n",
        "    ade.to_excel(text1)"
      ],
      "execution_count": null,
      "outputs": [
        {
          "output_type": "stream",
          "text": [
            "Escolha a distribuicao que deseja simular: \n",
            "\n",
            "P: Poisson \n",
            "\n",
            "g: Geometrica \n",
            "\n",
            "pa: Pareto \n",
            "\n",
            "ga: Gamma \n",
            "\n",
            "pa\n",
            "Distribuição Pareto\n",
            "                    1          2          3  ...         10      Média     Teoria\n",
            "Media        1.232140   1.250224   1.248451  ...   1.240963   1.244303   1.250000\n",
            "Variancia    0.076699   0.105198   0.089792  ...   0.082664   0.088783   0.104167\n",
            "Mediana      1.139830   1.154380   1.155015  ...   1.147413   1.149970   1.148698\n",
            "Moda         0.000000   0.000000   0.000000  ...   0.000000   0.000000   0.000000\n",
            "Curtose     11.988793  21.909690  19.548191  ...  14.088689  16.103447  70.800000\n",
            "Assimetria   2.815450   3.762999   3.369838  ...   2.934934   3.161594   4.647580\n",
            "1_Quartil    1.056501   1.063150   1.056198  ...   1.056492   1.058928   1.059224\n",
            "3_Quartil    1.304808   1.311688   1.324936  ...   1.310930   1.316145   1.319508\n",
            "\n",
            "[8 rows x 12 columns]\n",
            "            Simulado    Teoria           EQM\n",
            "00%|--10%   0.000000  0.000000  0.000000e+00\n",
            "10%|--20%   1.017683  1.021296  1.305240e-06\n",
            "20%|--30%   1.042128  1.045640  1.232887e-06\n",
            "30%|--40%   1.068024  1.073941  3.501437e-06\n",
            "40%|--50%   1.095869  1.107566  1.368278e-05\n",
            "50%|--60%   1.139830  1.148698  7.865008e-06\n",
            "60%|--70%   1.193204  1.201124  6.273749e-06\n",
            "70%|--80%   1.273700  1.272260  2.074047e-07\n",
            "80%|--90%   1.358039  1.379730  4.704643e-05\n",
            "90%|--100%  1.564835  1.584893  4.023113e-05\n",
            "                    1          2          3  ...         10      Média     Teoria\n",
            "Media        1.242076   1.250933   1.249032  ...   1.242878   1.248135   1.250000\n",
            "Variancia    0.090421   0.106184   0.097043  ...   0.093488   0.099240   0.104167\n",
            "Mediana      1.146610   1.147316   1.147660  ...   1.146492   1.148691   1.148698\n",
            "Moda         0.000000   0.000000   0.000000  ...   0.000000   0.000000   0.000000\n",
            "Curtose     31.618343  28.015166  20.515167  ...  25.866521  33.421923  70.800000\n",
            "Assimetria   3.851812   4.005595   3.465395  ...   3.778960   4.009791   4.647580\n",
            "1_Quartil    1.057571   1.059308   1.058533  ...   1.057053   1.058607   1.059224\n",
            "3_Quartil    1.314680   1.318218   1.320183  ...   1.314059   1.319484   1.319508\n",
            "\n",
            "[8 rows x 12 columns]\n",
            "            Simulado    Teoria           EQM\n",
            "00%|--10%   0.000000  0.000000  0.000000e+00\n",
            "10%|--20%   1.017683  1.021296  1.305240e-06\n",
            "20%|--30%   1.042128  1.045640  1.232887e-06\n",
            "30%|--40%   1.068024  1.073941  3.501437e-06\n",
            "40%|--50%   1.095869  1.107566  1.368278e-05\n",
            "50%|--60%   1.139830  1.148698  7.865008e-06\n",
            "60%|--70%   1.193204  1.201124  6.273749e-06\n",
            "70%|--80%   1.273700  1.272260  2.074047e-07\n",
            "80%|--90%   1.358039  1.379730  4.704643e-05\n",
            "90%|--100%  1.564835  1.584893  4.023113e-05\n",
            "                    1          2          3  ...         10      Média     Teoria\n",
            "Media        1.248728   1.250551   1.248969  ...   1.249150   1.249509   1.250000\n",
            "Variancia    0.103748   0.105858   0.103567  ...   0.101777   0.104546   0.104167\n",
            "Mediana      1.147809   1.148241   1.147531  ...   1.148355   1.148164   1.148698\n",
            "Moda         0.000000   0.000000   0.000000  ...   0.000000   0.000000   0.000000\n",
            "Curtose     58.584370  76.031108  43.861670  ...  36.933103  51.665915  70.800000\n",
            "Assimetria   4.757751   5.051302   4.459610  ...   4.186366   4.616757   4.647580\n",
            "1_Quartil    1.059048   1.059325   1.058731  ...   1.059273   1.059241   1.059224\n",
            "3_Quartil    1.318143   1.319891   1.319779  ...   1.318997   1.318604   1.319508\n",
            "\n",
            "[8 rows x 12 columns]\n",
            "            Simulado    Teoria           EQM\n",
            "00%|--10%   0.000000  0.000000  0.000000e+00\n",
            "10%|--20%   1.017683  1.021296  1.305240e-06\n",
            "20%|--30%   1.042128  1.045640  1.232887e-06\n",
            "30%|--40%   1.068024  1.073941  3.501437e-06\n",
            "40%|--50%   1.095869  1.107566  1.368278e-05\n",
            "50%|--60%   1.139830  1.148698  7.865008e-06\n",
            "60%|--70%   1.193204  1.201124  6.273749e-06\n",
            "70%|--80%   1.273700  1.272260  2.074047e-07\n",
            "80%|--90%   1.358039  1.379730  4.704643e-05\n",
            "90%|--100%  1.564835  1.584893  4.023113e-05\n"
          ],
          "name": "stdout"
        },
        {
          "output_type": "display_data",
          "data": {
            "image/png": "[encoded data removed]",
            "text/plain": [
              "<Figure size 432x288 with 1 Axes>"
            ]
          },
          "metadata": {
            "tags": [],
            "needs_background": "light"
          }
        },
        {
          "output_type": "display_data",
          "data": {
            "image/png": "[encoded data removed]",
            "text/plain": [
              "<Figure size 432x288 with 1 Axes>"
            ]
          },
          "metadata": {
            "tags": [],
            "needs_background": "light"
          }
        },
        {
          "output_type": "display_data",
          "data": {
            "image/png": "[encoded data removed]",
            "text/plain": [
              "<Figure size 432x288 with 1 Axes>"
            ]
          },
          "metadata": {
            "tags": [],
            "needs_background": "light"
          }
        },
        {
          "output_type": "display_data",
          "data": {
            "image/png": "[encoded data removed]",
            "text/plain": [
              "<Figure size 432x288 with 1 Axes>"
            ]
          },
          "metadata": {
            "tags": [],
            "needs_background": "light"
          }
        },
        {
          "output_type": "display_data",
          "data": {
            "image/png": "[encoded data removed]",
            "text/plain": [
              "<Figure size 432x288 with 1 Axes>"
            ]
          },
          "metadata": {
            "tags": [],
            "needs_background": "light"
          }
        },
        {
          "output_type": "display_data",
          "data": {
            "image/png": "[encoded data removed]",
            "text/plain": [
              "<Figure size 432x288 with 1 Axes>"
            ]
          },
          "metadata": {
            "tags": [],
            "needs_background": "light"
          }
        }
      ]
    }
  ]
}